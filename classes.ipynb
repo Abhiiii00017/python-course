{
 "cells": [
  {
   "cell_type": "code",
   "execution_count": 1,
   "metadata": {},
   "outputs": [],
   "source": [
    "name = [ ' abhishek','ashish', 'rohit','mohit']"
   ]
  },
  {
   "cell_type": "code",
   "execution_count": 2,
   "metadata": {},
   "outputs": [],
   "source": [
    "students = [{'name':'abhishek', 'age': 25, 'grade': 88},\n",
    "            {'name':'ashish', 'age': 26, 'grade': 89},\n",
    "            {'name':'rohit', 'age': 27, 'grade': 89},\n",
    "            {'name':'mohit', 'age': 28, 'grade': 90}\n",
    "            ]\n"
   ]
  },
  {
   "cell_type": "code",
   "execution_count": 3,
   "metadata": {},
   "outputs": [
    {
     "data": {
      "text/plain": [
       "[{'name': 'abhishek', 'age': 25, 'grade': 88},\n",
       " {'name': 'ashish', 'age': 26, 'grade': 89},\n",
       " {'name': 'rohit', 'age': 27, 'grade': 89},\n",
       " {'name': 'mohit', 'age': 28, 'grade': 90}]"
      ]
     },
     "execution_count": 3,
     "metadata": {},
     "output_type": "execute_result"
    }
   ],
   "source": [
    "students"
   ]
  },
  {
   "cell_type": "code",
   "execution_count": 4,
   "metadata": {},
   "outputs": [
    {
     "data": {
      "text/plain": [
       "{'name': 'abhishek', 'age': 25, 'grade': 88}"
      ]
     },
     "execution_count": 4,
     "metadata": {},
     "output_type": "execute_result"
    }
   ],
   "source": [
    "students[0]"
   ]
  },
  {
   "attachments": {},
   "cell_type": "markdown",
   "metadata": {},
   "source": [
    "object oriented principal\n",
    " - Encapsulation\n",
    " - Abstraction\n",
    " - Inheritance"
   ]
  },
  {
   "cell_type": "code",
   "execution_count": 11,
   "metadata": {},
   "outputs": [],
   "source": [
    "class Student:\n",
    "    def __init__(self,name,age,grade):\n",
    "        self.name = name\n",
    "        self.age = age\n",
    "        self.grade = grade\n",
    "    def __repr__(self):\n",
    "       return self.name\n",
    "        \n",
    "    \n",
    "        \n",
    "    "
   ]
  },
  {
   "cell_type": "code",
   "execution_count": 6,
   "metadata": {},
   "outputs": [],
   "source": [
    "students = [\n",
    "    Student('abhishek', 25 , 89),\n",
    "    Student('john', 26 , 90),\n",
    "    Student('paul', 27 , 91),\n",
    "    Student('aditya', 28 , 92)\n",
    "]\n",
    "\n"
   ]
  },
  {
   "cell_type": "code",
   "execution_count": 7,
   "metadata": {},
   "outputs": [
    {
     "data": {
      "text/plain": [
       "[abhishek, john, paul, aditya]"
      ]
     },
     "execution_count": 7,
     "metadata": {},
     "output_type": "execute_result"
    }
   ],
   "source": [
    "students"
   ]
  },
  {
   "cell_type": "code",
   "execution_count": 8,
   "metadata": {},
   "outputs": [],
   "source": [
    "class Mobile:\n",
    "    def __init__(self,nm,brnd,price,ram,camera):\n",
    "        self.name= nm\n",
    "        self.brnd = brnd\n",
    "        self.price = price\n",
    "        self.ram = ram\n",
    "        self.camera = camera\n",
    "    def __repr__(self):\n",
    "        return self.name\n",
    "    def info(self):\n",
    "        print(f'Name: {self.name}')\n",
    "        print(f'Brnd: {self.brnd}')\n",
    "        print(f'Price: {self.price}')\n",
    "        print(f'Ram: {self.ram}')\n",
    "        print(f'Camera: {self.camera}')\n",
    "\n",
    "    "
   ]
  },
  {
   "cell_type": "code",
   "execution_count": 9,
   "metadata": {},
   "outputs": [
    {
     "name": "stdout",
     "output_type": "stream",
     "text": [
      "[Redmi Note 9 pro, Iphone 14, Galaxy M31]\n"
     ]
    }
   ],
   "source": [
    "m1 = Mobile('Redmi Note 9 pro','Xiaomi',15000, '6GB','48MP')\n",
    "m2 = Mobile('Iphone 14','Apple',160000, '4GB','12MP')\n",
    "m3 = Mobile('Galaxy M31','Samsung',20000, '6GB','64MP')\n",
    "mobiles = [m1,m2,m3]\n",
    "print(mobiles)\n"
   ]
  },
  {
   "cell_type": "code",
   "execution_count": 10,
   "metadata": {},
   "outputs": [
    {
     "name": "stdout",
     "output_type": "stream",
     "text": [
      "Name: Redmi Note 9 pro\n",
      "Brnd: Xiaomi\n",
      "Price: 15000\n",
      "Ram: 6GB\n",
      "Camera: 48MP\n",
      "Name: Iphone 14\n",
      "Brnd: Apple\n",
      "Price: 160000\n",
      "Ram: 4GB\n",
      "Camera: 12MP\n",
      "Name: Galaxy M31\n",
      "Brnd: Samsung\n",
      "Price: 20000\n",
      "Ram: 6GB\n",
      "Camera: 64MP\n"
     ]
    }
   ],
   "source": [
    "for item in mobiles:\n",
    "    item.info()"
   ]
  },
  {
   "attachments": {},
   "cell_type": "markdown",
   "metadata": {},
   "source": [
    "- Inheritance"
   ]
  },
  {
   "cell_type": "code",
   "execution_count": 19,
   "metadata": {},
   "outputs": [],
   "source": [
    "class Person:\n",
    "    def __init__ (self,name,gender='female',age=21):\n",
    "        self.name = name\n",
    "        self.age = age\n",
    "        self.gender = gender\n",
    "\n",
    "    def __repr__(self):\n",
    "        return self.name"
   ]
  },
  {
   "cell_type": "code",
   "execution_count": 23,
   "metadata": {},
   "outputs": [
    {
     "data": {
      "text/plain": [
       "Abhishek"
      ]
     },
     "execution_count": 23,
     "metadata": {},
     "output_type": "execute_result"
    }
   ],
   "source": [
    "p1 = Person('Abhishek', age=25, gender = 'male')\n",
    "p1\n"
   ]
  },
  {
   "cell_type": "code",
   "execution_count": 24,
   "metadata": {},
   "outputs": [],
   "source": [
    "class Politician(Person):\n",
    "    def __init__ (self, name, age, gender, pp, exp, area, designation):\n",
    "        super().__init__ (name, age, gender)\n",
    "        self.party = pp\n",
    "        self.experience = exp\n",
    "        self.area = area\n",
    "        self.designation = designation"
   ]
  },
  {
   "cell_type": "code",
   "execution_count": 27,
   "metadata": {},
   "outputs": [
    {
     "data": {
      "text/plain": [
       "rohit"
      ]
     },
     "execution_count": 27,
     "metadata": {},
     "output_type": "execute_result"
    }
   ],
   "source": [
    "p2 = Politician('rohit', 24, 'male', 'BJP',2,'Bihar', 'MLA')\n",
    "p2"
   ]
  },
  {
   "cell_type": "code",
   "execution_count": 34,
   "metadata": {},
   "outputs": [],
   "source": [
    "from dataclasses import dataclass\n",
    "\n",
    "@dataclass\n",
    "class Product:\n",
    "    name: str\n",
    "    price: float\n",
    "    quantity: int\n",
    "\n"
   ]
  },
  {
   "cell_type": "code",
   "execution_count": 35,
   "metadata": {},
   "outputs": [
    {
     "data": {
      "text/plain": [
       "[Product(name='Laptop', price=1000, quantity=5),\n",
       " Product(name='Mouse', price=2000, quantity=6),\n",
       " Product(name='Keyboard', price=3000, quantity=7)]"
      ]
     },
     "execution_count": 35,
     "metadata": {},
     "output_type": "execute_result"
    }
   ],
   "source": [
    "products =[\n",
    "    Product('Laptop', 1000, 5),\n",
    "    Product('Mouse', 2000, 6),\n",
    "    Product('Keyboard', 3000, 7),   \n",
    "]\n",
    "products"
   ]
  },
  {
   "cell_type": "code",
   "execution_count": 46,
   "metadata": {},
   "outputs": [],
   "source": [
    "@dataclass\n",
    "class Polygon:\n",
    "    side: int\n",
    "    lenght: float\n",
    "\n",
    "    def perimeter(self):\n",
    "        return self.side * self.lenght\n"
   ]
  },
  {
   "cell_type": "code",
   "execution_count": 47,
   "metadata": {},
   "outputs": [
    {
     "name": "stdout",
     "output_type": "stream",
     "text": [
      "20\n",
      "12\n"
     ]
    }
   ],
   "source": [
    "p = Polygon(4,5)\n",
    "p2 = Polygon(3,4)\n",
    "print(p.perimeter())\n",
    "print(p2.perimeter())\n"
   ]
  },
  {
   "cell_type": "code",
   "execution_count": 43,
   "metadata": {},
   "outputs": [],
   "source": [
    "class Slist(list):\n",
    "    def sum (self):\n",
    "        return sum(self)\n",
    "    \n",
    "    def mean(self):\n",
    "        return sum(self) / len (self)"
   ]
  },
  {
   "cell_type": "code",
   "execution_count": 45,
   "metadata": {},
   "outputs": [
    {
     "name": "stdout",
     "output_type": "stream",
     "text": [
      "15\n",
      "115\n",
      "19.166666666666668\n"
     ]
    }
   ],
   "source": [
    "x = Slist ([1, 2, 3, 4, 5, ])\n",
    "y = Slist([2, 4, 6, 8, 10, ])\n",
    "\n",
    "print(x.sum())\n",
    "x.append(100)\n",
    "print(x.sum())\n",
    "print(x.mean())\n"
   ]
  }
 ],
 "metadata": {
  "kernelspec": {
   "display_name": "base",
   "language": "python",
   "name": "python3"
  },
  "language_info": {
   "codemirror_mode": {
    "name": "ipython",
    "version": 3
   },
   "file_extension": ".py",
   "mimetype": "text/x-python",
   "name": "python",
   "nbconvert_exporter": "python",
   "pygments_lexer": "ipython3",
   "version": "3.10.8"
  },
  "orig_nbformat": 4
 },
 "nbformat": 4,
 "nbformat_minor": 2
}

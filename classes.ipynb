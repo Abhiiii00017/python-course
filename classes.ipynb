{
 "cells": [
  {
   "cell_type": "code",
   "execution_count": 1,
   "metadata": {},
   "outputs": [],
   "source": [
    "name = [ ' abhishek','ashish', 'rohit','mohit']"
   ]
  },
  {
   "cell_type": "code",
   "execution_count": 2,
   "metadata": {},
   "outputs": [],
   "source": [
    "students = [{'name':'abhishek', 'age': 25, 'grade': 88},\n",
    "            {'name':'ashish', 'age': 26, 'grade': 89},\n",
    "            {'name':'rohit', 'age': 27, 'grade': 89},\n",
    "            {'name':'mohit', 'age': 28, 'grade': 90}\n",
    "            ]\n"
   ]
  },
  {
   "cell_type": "code",
   "execution_count": 3,
   "metadata": {},
   "outputs": [
    {
     "data": {
      "text/plain": [
       "[{'name': 'abhishek', 'age': 25, 'grade': 88},\n",
       " {'name': 'ashish', 'age': 26, 'grade': 89},\n",
       " {'name': 'rohit', 'age': 27, 'grade': 89},\n",
       " {'name': 'mohit', 'age': 28, 'grade': 90}]"
      ]
     },
     "execution_count": 3,
     "metadata": {},
     "output_type": "execute_result"
    }
   ],
   "source": [
    "students"
   ]
  },
  {
   "cell_type": "code",
   "execution_count": 4,
   "metadata": {},
   "outputs": [
    {
     "data": {
      "text/plain": [
       "{'name': 'abhishek', 'age': 25, 'grade': 88}"
      ]
     },
     "execution_count": 4,
     "metadata": {},
     "output_type": "execute_result"
    }
   ],
   "source": [
    "students[0]"
   ]
  },
  {
   "attachments": {},
   "cell_type": "markdown",
   "metadata": {},
   "source": [
    "object oriented principal\n",
    " - Encapsulation\n",
    " - Abstraction\n",
    " - Inheritance"
   ]
  },
  {
   "cell_type": "code",
   "execution_count": 5,
   "metadata": {},
   "outputs": [],
   "source": [
    "class Student:\n",
    "    def __init__(self,name,age,grade):\n",
    "        self.name = name\n",
    "        self.age = age\n",
    "        self.grade = grade\n",
    "    def __repr__(self):\n",
    "       return self.name\n",
    "        \n",
    "    \n",
    "        \n",
    "    "
   ]
  },
  {
   "cell_type": "code",
   "execution_count": 6,
   "metadata": {},
   "outputs": [],
   "source": [
    "students = [\n",
    "    Student('abhishek', 25 , 89),\n",
    "    Student('john', 26 , 90),\n",
    "    Student('paul', 27 , 91),\n",
    "    Student('aditya', 28 , 92)\n",
    "]\n",
    "\n"
   ]
  },
  {
   "cell_type": "code",
   "execution_count": 7,
   "metadata": {},
   "outputs": [
    {
     "data": {
      "text/plain": [
       "[abhishek, john, paul, aditya]"
      ]
     },
     "execution_count": 7,
     "metadata": {},
     "output_type": "execute_result"
    }
   ],
   "source": [
    "students"
   ]
  },
  {
   "cell_type": "code",
   "execution_count": 8,
   "metadata": {},
   "outputs": [],
   "source": [
    "class Mobile:\n",
    "    def __init__(self,nm,brnd,price,ram,camera):\n",
    "        self.name= nm\n",
    "        self.brnd = brnd\n",
    "        self.price = price\n",
    "        self.ram = ram\n",
    "        self.camera = camera\n",
    "    def __repr__(self):\n",
    "        return self.name\n",
    "    def info(self):\n",
    "        print(f'Name: {self.name}')\n",
    "        print(f'Brnd: {self.brnd}')\n",
    "        print(f'Price: {self.price}')\n",
    "        print(f'Ram: {self.ram}')\n",
    "        print(f'Camera: {self.camera}')\n",
    "\n",
    "    "
   ]
  },
  {
   "cell_type": "code",
   "execution_count": 9,
   "metadata": {},
   "outputs": [
    {
     "name": "stdout",
     "output_type": "stream",
     "text": [
      "[Redmi Note 9 pro, Iphone 14, Galaxy M31]\n"
     ]
    }
   ],
   "source": [
    "m1 = Mobile('Redmi Note 9 pro','Xiaomi',15000, '6GB','48MP')\n",
    "m2 = Mobile('Iphone 14','Apple',160000, '4GB','12MP')\n",
    "m3 = Mobile('Galaxy M31','Samsung',20000, '6GB','64MP')\n",
    "mobiles = [m1,m2,m3]\n",
    "print(mobiles)\n"
   ]
  },
  {
   "cell_type": "code",
   "execution_count": 10,
   "metadata": {},
   "outputs": [
    {
     "name": "stdout",
     "output_type": "stream",
     "text": [
      "Name: Redmi Note 9 pro\n",
      "Brnd: Xiaomi\n",
      "Price: 15000\n",
      "Ram: 6GB\n",
      "Camera: 48MP\n",
      "Name: Iphone 14\n",
      "Brnd: Apple\n",
      "Price: 160000\n",
      "Ram: 4GB\n",
      "Camera: 12MP\n",
      "Name: Galaxy M31\n",
      "Brnd: Samsung\n",
      "Price: 20000\n",
      "Ram: 6GB\n",
      "Camera: 64MP\n"
     ]
    }
   ],
   "source": [
    "for item in mobiles:\n",
    "    item.info()"
   ]
  },
  {
   "cell_type": "code",
   "execution_count": null,
   "metadata": {},
   "outputs": [],
   "source": []
  }
 ],
 "metadata": {
  "kernelspec": {
   "display_name": "base",
   "language": "python",
   "name": "python3"
  },
  "language_info": {
   "codemirror_mode": {
    "name": "ipython",
    "version": 3
   },
   "file_extension": ".py",
   "mimetype": "text/x-python",
   "name": "python",
   "nbconvert_exporter": "python",
   "pygments_lexer": "ipython3",
   "version": "3.10.8"
  },
  "orig_nbformat": 4
 },
 "nbformat": 4,
 "nbformat_minor": 2
}

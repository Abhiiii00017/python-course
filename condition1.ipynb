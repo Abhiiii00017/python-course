{
 "cells": [
  {
   "attachments": {},
   "cell_type": "markdown",
   "metadata": {},
   "source": [
    "# conditions\n",
    "if\n",
    "if else\n",
    "nested if\n",
    "if elif else\n",
    "match\n"
   ]
  },
  {
   "cell_type": "code",
   "execution_count": null,
   "metadata": {},
   "outputs": [],
   "source": [
    "count= int(input('enter a value:'))\n",
    "if count > 5:\n",
    "    print('you are going to run this part')\n",
    "if count > 15:\n",
    "    print('you are going to see this also')\n",
    "if count%2==0:\n",
    "    print('count is even')\n",
    "if count>0:\n",
    "    print('count is natural number')\n",
    "\n"
   ]
  },
  {
   "cell_type": "code",
   "execution_count": null,
   "metadata": {},
   "outputs": [],
   "source": []
  },
  {
   "cell_type": "code",
   "execution_count": null,
   "metadata": {},
   "outputs": [],
   "source": [
    "a=5\n",
    "b=5\n",
    "c=13\n",
    "if a>b and a<c:\n",
    "    print(f'{a=} is greater')\n",
    "if b>c and b>a:\n",
    "    print(f'{b=}is greater')\n",
    "if c>a and c>b:\n",
    "    print(f'{c=}is greater')"
   ]
  },
  {
   "cell_type": "code",
   "execution_count": null,
   "metadata": {},
   "outputs": [],
   "source": [
    "if a>b and a>c:\n",
    "    print(f'{a=}is greater')\n",
    "elif b>c and b>a:\n",
    "    print(f'{b=}is greater')\n",
    "else:\n",
    "    print(f'{c=}is greater')"
   ]
  },
  {
   "cell_type": "code",
   "execution_count": null,
   "metadata": {},
   "outputs": [],
   "source": [
    "username= input('enter your name')\n",
    "email = input('enter your email')\n",
    "pwd = input('enter new password')\n",
    "pwd2 = input('confirm your password')\n",
    "\n",
    "if len(username)>4 and len(username)<=15:\n",
    "    if'@' in email and email.islower() and len(email)>10:\n",
    "        if len(pwd) >=6 and pwd!= username:\n",
    "            if pwd == pwd2:\n",
    "                print('hurray😂')\n",
    "            else:\n",
    "                print('passwords do not match😡')\n",
    "        else:\n",
    "            print('password is invalid😠')\n",
    "    else:\n",
    "        print('Email is invalid😠')\n",
    "else:\n",
    "    print('username is invaid😡')\n"
   ]
  },
  {
   "attachments": {},
   "cell_type": "markdown",
   "metadata": {},
   "source": [
    "loops\n",
    "#10 movies name"
   ]
  },
  {
   "cell_type": "code",
   "execution_count": null,
   "metadata": {},
   "outputs": [],
   "source": [
    "name=[\n",
    "    'shershah',\n",
    "    'pathan',\n",
    "    'koi mil gya',\n",
    "    'jai bhim',\n",
    "    'article 15',\n",
    "    '3 idiots',\n",
    "    'dhamaal',\n",
    "    'chupke chupke',\n",
    "    'kuch kuch hota hai',\n",
    "    'nadiya paar'\n",
    "]\n"
   ]
  },
  {
   "cell_type": "code",
   "execution_count": null,
   "metadata": {},
   "outputs": [],
   "source": [
    "# for every movie in movies\n",
    "for movie in name:\n",
    "    print(f'{movie} | {len(movie)}')\n",
    "    "
   ]
  },
  {
   "cell_type": "code",
   "execution_count": null,
   "metadata": {},
   "outputs": [],
   "source": [
    "for i in range(1,10):\n",
    "    print('dontcode')"
   ]
  },
  {
   "cell_type": "code",
   "execution_count": null,
   "metadata": {},
   "outputs": [],
   "source": [
    "for x in range(1000):\n",
    "    print(x, end=' '  )#end is a setting for print function\n",
    "    #by default print change line, but here we are puting spaces\n"
   ]
  },
  {
   "cell_type": "code",
   "execution_count": null,
   "metadata": {},
   "outputs": [],
   "source": [
    "# range() can also take 3 values, first is start value, second is end value\n",
    "#last is the gap betwwen each step\n",
    "for i in range (1,100,5):\n",
    "    print(i,end=' ')"
   ]
  },
  {
   "cell_type": "code",
   "execution_count": null,
   "metadata": {},
   "outputs": [],
   "source": [
    "for i in range(1,100,2):\n",
    "    print(i,end=' ' )"
   ]
  },
  {
   "cell_type": "code",
   "execution_count": null,
   "metadata": {},
   "outputs": [],
   "source": [
    "for i in range(1,101):\n",
    "    if i%2!=0:\n",
    "        print(i , end=' ')"
   ]
  },
  {
   "cell_type": "code",
   "execution_count": null,
   "metadata": {},
   "outputs": [],
   "source": [
    "for i in range(1,101,2):\n",
    "    print(i, end=' ')"
   ]
  },
  {
   "attachments": {},
   "cell_type": "markdown",
   "metadata": {},
   "source": [
    "#special iterables\n",
    "-range()\n",
    "enumerate()\n",
    "zip()\n",
    "-break\n",
    "-continue\n",
    "for else loop"
   ]
  },
  {
   "cell_type": "code",
   "execution_count": null,
   "metadata": {},
   "outputs": [],
   "source": [
    "for i in range(10,1,-1):\n",
    "    print(i)"
   ]
  },
  {
   "cell_type": "code",
   "execution_count": null,
   "metadata": {},
   "outputs": [],
   "source": [
    "data=[45,23,42,4,54]\n",
    "for item in enumerate (data):\n",
    "    print(item)\n"
   ]
  },
  {
   "cell_type": "code",
   "execution_count": null,
   "metadata": {},
   "outputs": [],
   "source": [
    "for i,v in enumerate(data):\n",
    "    print(i,v)"
   ]
  },
  {
   "cell_type": "code",
   "execution_count": 8,
   "metadata": {},
   "outputs": [],
   "source": [
    "apps_name = [\n",
    "    'amazon',\n",
    "    'apna',\n",
    "    'app market',\n",
    "    'bob world',\n",
    "    'bsnl world',\n",
    "    'calculate',\n",
    "    'camera',\n",
    "    'chrome',\n",
    "    'clock',\n",
    "    'compass',\n",
    "    'contacts',\n",
    "    'cred',\n",
    "    'docvault',\n",
    "    'drive',\n",
    "    'facebook',\n",
    "    'file manger',\n",
    "    'fineshell',\n",
    "    'filpkart',\n",
    "    'fm radio',\n",
    "    'game centre',\n",
    "    'gmail',\n",
    "    'google',\n",
    "    'google tv',\n",
    "    'gpay',\n",
    "    'groww',\n",
    "    'hdfc',\n",
    "    'heytapcloud',\n",
    "    'hinkhoj',\n",
    "    'hirect',\n",
    "    'home',\n",
    "    'hotstar',\n",
    "    'ignou',\n",
    "    'indmoney',\n",
    "    'instagram',\n",
    "    'internet',\n",
    "    'jio',\n",
    "    'keep notes',\n",
    "    'kotak',\n",
    "    'kuku fm',\n",
    "    'lens',\n",
    "    'linkedin',\n",
    "    'maadhar',\n",
    "    'magtap',\n",
    "    'maps',\n",
    "    'meet',\n",
    "    'messenger',\n",
    "    'music',\n",
    "    'mxplayer',\n",
    "    'my oppo',\n",
    "    'naukri.com',\n",
    "    'netfilx',\n",
    "    'news',\n",
    "    'nextgen. mparivahan',\n",
    "    'o relax',\n",
    "    'ola',\n",
    "    'paytm',\n",
    "    'pdf reader',\n",
    "    'phone manger',\n",
    "    'phonepay',\n",
    "    'photos',\n",
    "    'pikashow',\n",
    "    'playgame',\n",
    "    'playstore',\n",
    "    'policybazar',\n",
    "    'real chess',\n",
    "    'resso',\n",
    "    'sbi card',\n",
    "    'shareme',\n",
    "    'snapchat',\n",
    "    'sonyliv',\n",
    "    'swiggy',\n",
    "    'tata play',\n",
    "    'telegram',\n",
    "    'torrdroid',\n",
    "    'translate',\n",
    "    'uc browrs',\n",
    "    'upstock',\n",
    "    'vocab24',\n",
    "    'wathsapp',\n",
    "    'wazix',\n",
    "    'where is my train', \n",
    "    'word',\n",
    "    'work india',\n",
    "    'yono app',\n",
    "    'youtube',\n",
    "    'zedge',\n",
    "    'zomato',\n",
    "    'sanskrit dic',   \n",
    "]\n"
   ]
  },
  {
   "cell_type": "code",
   "execution_count": null,
   "metadata": {},
   "outputs": [],
   "source": [
    "x=[2,5,1,2,5,2,5]\n",
    "y=[2,1,5,2,5,5]\n",
    "z=[2,5,1,3,5,2]\n",
    "for i,j,k in zip(x,y,z):\n",
    "    r=i*j*k\n",
    "    print(r)"
   ]
  },
  {
   "cell_type": "code",
   "execution_count": null,
   "metadata": {},
   "outputs": [],
   "source": [
    "x=[1,2,3,4,5]\n",
    "y=[10,12,13,15,15]\n"
   ]
  },
  {
   "cell_type": "code",
   "execution_count": null,
   "metadata": {},
   "outputs": [],
   "source": [
    "for i in range (len(x)):\n",
    "    out=x[i]+y[i]\n",
    "    print(out)"
   ]
  },
  {
   "cell_type": "code",
   "execution_count": null,
   "metadata": {},
   "outputs": [],
   "source": [
    "for i,j in zip(x,y):\n",
    "    out=(i+j)\n",
    "    print(out)"
   ]
  },
  {
   "cell_type": "code",
   "execution_count": 7,
   "metadata": {},
   "outputs": [
    {
     "ename": "SyntaxError",
     "evalue": "expected ':' (151497340.py, line 2)",
     "output_type": "error",
     "traceback": [
      "\u001b[1;36m  Cell \u001b[1;32mIn[7], line 2\u001b[1;36m\u001b[0m\n\u001b[1;33m    if app=='chrome'\u001b[0m\n\u001b[1;37m                    ^\u001b[0m\n\u001b[1;31mSyntaxError\u001b[0m\u001b[1;31m:\u001b[0m expected ':'\n"
     ]
    }
   ],
   "source": [
    "for app in enumerate (apps_name):\n",
    "    if app=='chrome'\n",
    "        break\n",
    "    print(i,app)"
   ]
  },
  {
   "cell_type": "code",
   "execution_count": 6,
   "metadata": {},
   "outputs": [
    {
     "ename": "NameError",
     "evalue": "name 'apps_name' is not defined",
     "output_type": "error",
     "traceback": [
      "\u001b[1;31m---------------------------------------------------------------------------\u001b[0m",
      "\u001b[1;31mNameError\u001b[0m                                 Traceback (most recent call last)",
      "Cell \u001b[1;32mIn[6], line 1\u001b[0m\n\u001b[1;32m----> 1\u001b[0m \u001b[39mfor\u001b[39;00m app \u001b[39min\u001b[39;00m apps_name:\n\u001b[0;32m      2\u001b[0m     \u001b[39mif\u001b[39;00m \u001b[39m'\u001b[39m\u001b[39mz\u001b[39m\u001b[39m'\u001b[39m\u001b[39min\u001b[39;00m app:\n\u001b[0;32m      3\u001b[0m         \u001b[39mprint\u001b[39m(\u001b[39mf\u001b[39m\u001b[39m'\u001b[39m\u001b[39mz found in \u001b[39m\u001b[39m{\u001b[39;00mapp\u001b[39m}\u001b[39;00m\u001b[39m'\u001b[39m)\n",
      "\u001b[1;31mNameError\u001b[0m: name 'apps_name' is not defined"
     ]
    }
   ],
   "source": [
    "for app in apps_name:\n",
    "    if 'z'in app:\n",
    "        print(f'z found in {app}')\n",
    "        break\n",
    "    print(app)"
   ]
  },
  {
   "cell_type": "code",
   "execution_count": 9,
   "metadata": {},
   "outputs": [
    {
     "name": "stdout",
     "output_type": "stream",
     "text": [
      "z was found in apna\n"
     ]
    }
   ],
   "source": [
    "c = 0 \n",
    "for app in apps_name:\n",
    "    if 'a' in app:\n",
    "        c+=1\n",
    "    if c==2:\n",
    "        print(f'z was found in {app}')"
   ]
  },
  {
   "cell_type": "code",
   "execution_count": 5,
   "metadata": {},
   "outputs": [
    {
     "name": "stdout",
     "output_type": "stream",
     "text": [
      "1\n",
      "2\n",
      "5\n",
      "2\n",
      "5\n",
      "6\n",
      "7\n",
      "8\n",
      "21\n",
      "5\n",
      "81\n"
     ]
    }
   ],
   "source": [
    "x=[1,2,5,2,5,0,6,7,8,21,0,5,0,81]\n",
    "for i in x:\n",
    "    if i == 0: continue\n",
    "    print(i)"
   ]
  },
  {
   "cell_type": "code",
   "execution_count": 10,
   "metadata": {},
   "outputs": [
    {
     "name": "stdout",
     "output_type": "stream",
     "text": [
      "hdfc\n",
      "swiggy\n"
     ]
    }
   ],
   "source": [
    "for app in apps_name:\n",
    "    if 'e' in app or 'a'in app or 'o' in app or 'u' in app: continue\n",
    "    print(app)"
   ]
  },
  {
   "attachments": {},
   "cell_type": "markdown",
   "metadata": {},
   "source": [
    "while loop"
   ]
  },
  {
   "cell_type": "code",
   "execution_count": 13,
   "metadata": {},
   "outputs": [
    {
     "name": "stdout",
     "output_type": "stream",
     "text": [
      "5\n",
      "9\n",
      "12\n",
      "14\n",
      "15\n"
     ]
    }
   ],
   "source": [
    "#sum of all digit\n",
    "num=12345\n",
    "total=0\n",
    "while num>0:\n",
    "    total+= num%10\n",
    "    num = num // 10\n",
    "    print(total)"
   ]
  },
  {
   "cell_type": "code",
   "execution_count": 18,
   "metadata": {},
   "outputs": [
    {
     "name": "stdout",
     "output_type": "stream",
     "text": [
      "wrong pin,2 tries left\n",
      "welcome master\n"
     ]
    }
   ],
   "source": [
    "retry = 0\n",
    "while retry<3:\n",
    "    pin = input('enter pin:')\n",
    "    if pin =='1234':\n",
    "        print('welcome master')\n",
    "        break\n",
    "    else:\n",
    "        print(f'wrong pin,{2-retry} tries left')\n",
    "        retry+=1\n",
    "\n"
   ]
  },
  {
   "cell_type": "code",
   "execution_count": 4,
   "metadata": {},
   "outputs": [
    {
     "name": "stdout",
     "output_type": "stream",
     "text": [
      "t\n",
      "h\n",
      "i\n",
      "s\n"
     ]
    }
   ],
   "source": [
    "message= input('enter a message')\n",
    "for char in message:\n",
    "    if char == ' ' :\n",
    "        break\n",
    "    print(char)\n",
    "else:\n",
    "    print('message does not contain space')"
   ]
  },
  {
   "cell_type": "code",
   "execution_count": null,
   "metadata": {},
   "outputs": [],
   "source": []
  }
 ],
 "metadata": {
  "kernelspec": {
   "display_name": "base",
   "language": "python",
   "name": "python3"
  },
  "language_info": {
   "codemirror_mode": {
    "name": "ipython",
    "version": 3
   },
   "file_extension": ".py",
   "mimetype": "text/x-python",
   "name": "python",
   "nbconvert_exporter": "python",
   "pygments_lexer": "ipython3",
   "version": "3.10.8"
  },
  "orig_nbformat": 4,
  "vscode": {
   "interpreter": {
    "hash": "17f9612be2af95f1a24b44e8e60c8b31239550e8d26000091e818458ad3b3601"
   }
  }
 },
 "nbformat": 4,
 "nbformat_minor": 2
}

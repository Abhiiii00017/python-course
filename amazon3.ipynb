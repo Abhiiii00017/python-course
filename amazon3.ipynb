{
 "cells": [
  {
   "cell_type": "code",
   "execution_count": 8,
   "metadata": {},
   "outputs": [],
   "source": [
    "from dputils.scrape import Scraper , Tag "
   ]
  },
  {
   "cell_type": "code",
   "execution_count": 15,
   "metadata": {},
   "outputs": [
    {
     "name": "stdout",
     "output_type": "stream",
     "text": [
      "https://www.amazon.com/s?k=apple+mobiles&page=Mobiles&page1\n"
     ]
    },
    {
     "data": {
      "text/plain": [
       "<title>Amazon.com : apple mobiles</title>"
      ]
     },
     "execution_count": 15,
     "metadata": {},
     "output_type": "execute_result"
    }
   ],
   "source": [
    "page = 1\n",
    "query = 'Mobiles'\n",
    "webpage = Scraper (f'https://www.amazon.com/s?k=apple+mobiles&page={query}&page{page}')\n",
    "print (webpage.url)\n",
    "webpage.soup.title"
   ]
  },
  {
   "cell_type": "code",
   "execution_count": 17,
   "metadata": {},
   "outputs": [
    {
     "data": {
      "text/plain": [
       "[{'name': 'Apple iPhone 12 Pro Max, 256GB, Pacific Blue - Unlocked (Renewed Premium)  ',\n",
       "  'price': None,\n",
       "  'orignal_price': None,\n",
       "  'rating': '4.4',\n",
       "  'color': ''},\n",
       " {'name': 'Apple iPhone 11 Pro, 64GB, Midnight Green - Unlocked (Renewed Premium)  ',\n",
       "  'price': '323.',\n",
       "  'orignal_price': '$323.90',\n",
       "  'rating': '4.2',\n",
       "  'color': ''},\n",
       " {'name': 'Total by Verizon Apple iPhone 11, 64GB, White - Prepaid Smartphone (Locked)  ',\n",
       "  'price': None,\n",
       "  'orignal_price': None,\n",
       "  'rating': None,\n",
       "  'color': None},\n",
       " {'name': 'Apple iPhone 12 Pro, 256GB, Graphite - Unlocked (Renewed Premium)  ',\n",
       "  'price': None,\n",
       "  'orignal_price': None,\n",
       "  'rating': '4.2',\n",
       "  'color': None},\n",
       " {'name': 'Apple iPhone 12 Pro, 512GB, Pacific Blue - Unlocked (Renewed Premium)  ',\n",
       "  'price': None,\n",
       "  'orignal_price': None,\n",
       "  'rating': '4.3',\n",
       "  'color': None},\n",
       " {'name': 'Apple iPhone 11 Pro Max, 64GB, Midnight Green - Unlocked (Renewed Premium)  ',\n",
       "  'price': '375.',\n",
       "  'orignal_price': '$375.25',\n",
       "  'rating': '4.3',\n",
       "  'color': ''},\n",
       " {'name': 'Apple iPhone 12 Pro, 256GB, Pacific Blue - Unlocked (Renewed Premium)  ',\n",
       "  'price': None,\n",
       "  'orignal_price': None,\n",
       "  'rating': '4.3',\n",
       "  'color': None},\n",
       " {'name': 'Apple iPhone 12 Pro, 128GB, Pacific Blue - Unlocked (Renewed Premium)  ',\n",
       "  'price': None,\n",
       "  'orignal_price': None,\n",
       "  'rating': '4.2',\n",
       "  'color': None},\n",
       " {'name': 'Apple iPhone 12 Pro Max, 512GB, Graphite - Unlocked (Renewed Premium)  ',\n",
       "  'price': None,\n",
       "  'orignal_price': None,\n",
       "  'rating': '4.2',\n",
       "  'color': None},\n",
       " {'name': 'Apple iPhone 12 Pro, 128GB, Gold - Unlocked (Renewed Premium)  ',\n",
       "  'price': None,\n",
       "  'orignal_price': None,\n",
       "  'rating': '3.8',\n",
       "  'color': None},\n",
       " {'name': 'Apple iPhone 12, 64GB, Green - Fully Unlocked (Renewed)  ',\n",
       "  'price': '359.',\n",
       "  'orignal_price': '$359.99',\n",
       "  'rating': '4.3',\n",
       "  'color': ''},\n",
       " {'name': 'Apple iPhone 12 Pro, 256GB, Gold - Unlocked (Renewed Premium)  ',\n",
       "  'price': None,\n",
       "  'orignal_price': None,\n",
       "  'rating': '4.5',\n",
       "  'color': None},\n",
       " {'name': 'Apple iPhone 12, 256GB, Black - Unlocked (Renewed Premium)  ',\n",
       "  'price': None,\n",
       "  'orignal_price': None,\n",
       "  'rating': '3.8',\n",
       "  'color': None},\n",
       " {'name': 'Apple iPhone 12 Pro Max, 128GB, Gold - Unlocked (Renewed Premium)  ',\n",
       "  'price': None,\n",
       "  'orignal_price': None,\n",
       "  'rating': '4.5',\n",
       "  'color': None},\n",
       " {'name': 'Apple iPhone 12 Pro Max, 128GB, Silver - Unlocked (Renewed Premium)  ',\n",
       "  'price': None,\n",
       "  'orignal_price': None,\n",
       "  'rating': '4.5',\n",
       "  'color': None},\n",
       " {'name': 'Apple iPhone 12 Mini, 128GB, Blue - Unlocked (Renewed Premium)  ',\n",
       "  'price': None,\n",
       "  'orignal_price': None,\n",
       "  'rating': '4.3',\n",
       "  'color': ''}]"
      ]
     },
     "execution_count": 17,
     "metadata": {},
     "output_type": "execute_result"
    }
   ],
   "source": [
    "target = Tag ('div' , cls = 's-main-slot s-result-list s-search-results sg-row')\n",
    "items = Tag ('div', cls = 'sg-col-20-of-24 s-result-item s-asin sg-col-0-of-12 sg-col-16-of-20 sg-col s-widget-spacing-small sg-col-12-of-16')\n",
    "title = Tag ('h2')\n",
    "price = Tag ('span', cls = 'a-price-whole')\n",
    "orignal_price = Tag ('span', cls = 'a-offscreen')\n",
    "rating = Tag ('span', cls = 'a-size-base')\n",
    "color = Tag ('div', cls = 'a-section s-color-swatch-container s-quick-view-text-align-start')\n",
    "webpage.get_all(target,items, name = title, price = price, orignal_price = orignal_price, rating= rating, color=color)\n"
   ]
  },
  {
   "cell_type": "code",
   "execution_count": null,
   "metadata": {},
   "outputs": [],
   "source": []
  }
 ],
 "metadata": {
  "kernelspec": {
   "display_name": "base",
   "language": "python",
   "name": "python3"
  },
  "language_info": {
   "codemirror_mode": {
    "name": "ipython",
    "version": 3
   },
   "file_extension": ".py",
   "mimetype": "text/x-python",
   "name": "python",
   "nbconvert_exporter": "python",
   "pygments_lexer": "ipython3",
   "version": "3.10.8"
  },
  "orig_nbformat": 4
 },
 "nbformat": 4,
 "nbformat_minor": 2
}

{
 "cells": [
  {
   "cell_type": "code",
   "execution_count": 1,
   "metadata": {},
   "outputs": [],
   "source": [
    "from dputils.scrape import Scraper, Tag"
   ]
  },
  {
   "cell_type": "code",
   "execution_count": null,
   "metadata": {},
   "outputs": [
    {
     "data": {
      "text/plain": [
       "<title>Amazon.in : bags</title>"
      ]
     },
     "execution_count": 5,
     "metadata": {},
     "output_type": "execute_result"
    }
   ],
   "source": [
    "page = 1\n",
    "query = 'bags'\n",
    "webpage = Scraper (f'https://www.amazon.in/s?k={query}&page={page}')\n",
    "webpage.soup.title"
   ]
  },
  {
   "cell_type": "code",
   "execution_count": null,
   "metadata": {},
   "outputs": [
    {
     "data": {
      "text/plain": [
       "[{'name': None},\n",
       " {'name': None},\n",
       " {'name': 'MOKOBARA The Zip Around Backpack | Water Resistant Laptop Daypack (14\" Laptop Compartment) Work | Travel Backpack for Men and Women  '},\n",
       " {'name': 'MOKOBARA The Work Backpack 15.6\" Inch Laptop | Travel Backpack For Men And Women  '},\n",
       " {'name': 'American Tourister 32 Ltrs Black Casual Backpack (AMT FIZZ SCH BAG 02 - BLACK)  '},\n",
       " {'name': 'Wesley Milestone 2.0 Casual Waterproof Laptop Backpack/Office Bag/School Bag/College Bag/Business Bag/Travel Backpack (Dimensions:13x18 inches) (Compatible with 39.62cm(15.6inch laptop) 30 L (Blue & black)  '},\n",
       " {'name': 'Skybags Brat Black 46 Cms Casual Backpack  '},\n",
       " {'name': 'American Tourister 32 Ltrs Black Casual Backpack (AMT FIZZ SCH BAG 02 - BLACK)  '},\n",
       " {'name': None},\n",
       " {'name': 'ADISA 15.6 inch Laptop Backpack Office Bag College Travel Back Pack 32 Ltrs (z-Navy Blue)  '},\n",
       " {'name': 'Lavie Sport Lino Large Size 63 cms Wheel Duffle Bag for Travel | Travel Bag with Trolley  '},\n",
       " {'name': 'Fur Jaden 15.6 Inch Laptop Backpack 25 LTR Bag for School, College and Office with USB Charging Port  '},\n",
       " {'name': 'Gear Aspire 30L Water Restant Office Laptop Bag/Backpack for Men/Women/(Black)  '},\n",
       " {'name': 'Gear CarryOn 16L Foldable Water Resistant School Bag//Backpack/College Bag for Men/Women - Blue Black  '},\n",
       " {'name': 'Half Moon 45L Hammer Waterproof Laptop Travelling Rucksack Trekking Backpack for Travel Journey bags for Men Women Boys & Girls with 17.3inch Laptop Compartment & Rain cover  '},\n",
       " {'name': 'The Clownfish Maverick Backpack 40 liters |15.6 inch Laptop Backpack | Travel Bag  '},\n",
       " {'name': 'FUR JADEN Anti Theft Number Lock Backpack Bag with 15.6 Inch Laptop Compartment, USB Charging Port & Organizer Pocket for Men Women Boys Girls  '},\n",
       " {'name': \"Kuber Industries Women's Handkerchief Set (Cream)  \"},\n",
       " {'name': 'Blue Tree 10 Ltrs ( Cms)Backpack(Bluetree_Backpacks_034_Multi Colour)  '},\n",
       " {'name': 'Blue Tree 10 Ltrs ( Cms)Backpack(Bluetree_Backpacks_034_Multi Colour)  '},\n",
       " {'name': 'blue tree 10 ltrs (5 Cms)Backpack(Rider01_Yellow)  '},\n",
       " {'name': 'MosQuick® Clear large Drawstring Bags Clear Plastic Travel Bags, Travel Garments Organizing Storage Plastic Bags ,Shoe bags , Stationery Bag,multipurpose bag - Translucent  '},\n",
       " {'name': 'Blue Tree Kids School Bag Soft Plush Backpack Combo Cartoon Bags Mini Travel Bag for for Girls Boys Toddler Baby (Pack of 2)  '},\n",
       " {'name': 'Blue Tree Kids School Bag Soft Plush Backpack Combo Cartoon Bags Mini Travel Bag for for Girls Boys Toddler Baby (Pack of 2)  '},\n",
       " {'name': 'Amazon Brand - Solimo Polyester Duffel Gym Bag with Shoe Compartment  '},\n",
       " {'name': 'Blue Tree Kids School Bag Soft Plush Backpack Cartoon Bags Mini Travel Bag for for Girls Boys Toddler Baby  '},\n",
       " {'name': 'Blue Tree Velvet Kids School/Nursery/Picnic/Carry/Travelling Bag - 2 to 5 Age (Yellow_Blue School Bag)  '},\n",
       " {'name': None},\n",
       " {'name': 'TRUE HUMAN® Emperor Anti-Theft backpack With USB charging Port Laptop bag/Office bag/college bag/travel bag with anti -theft back pocket (LEGEND)  '},\n",
       " {'name': \"Lunar's Bingo - 48 L Laptop Office/School/Travel/Business Backpack Water Resistant - Fits Up to 15.6 Inch Laptop Notebook with 1 Year Warranty  \"},\n",
       " {'name': 'Half Moon 35L Water Resistant 15.6 inch Laptop Bag for Men/Backpack for Men, Navy Blue | Office Bag for Men/Office Bag for Women with Padded Laptop Compartment | Rain Cover & Reflective Strips  '},\n",
       " {'name': 'Wesley Milestone 2.0 Casual Waterproof Laptop Backpack/Office Bag/School Bag/College Bag/Business Bag/Travel Backpack (Dimensions:13x18 inches) (Compatible with 39.62cm(15.6inch laptop) 30 L, Charcoal black  '},\n",
       " {'name': 'Fur Jaden 55 LTR Rucksack Travel Backpack Bag for Trekking, Hiking with Shoe Compartment  '},\n",
       " {'name': 'SAFARI 15 Ltrs Sea Blue Casual/School/College Backpack (DAYPACKNEO15CBSEB)  '},\n",
       " {'name': 'Northzone Casual Waterproof Laptop Backpack/Office Bag/School Bag/College Bag/Business Bag/Travel Backpack (Dimensions:13x18 inches) (Compatible with 39.62cm(15.6inch laptop) 30 L  '},\n",
       " {'name': 'uppercase Apex Professional Laptop Backpack (15.6 Inch) 3x more water resistant sustainable bags with rain proof zippers for Men, Women, Boys and Girls, 750 Days warranty  '},\n",
       " {'name': 'Tabelito® Volt Casual Waterproof Laptop Backpack/Office Bag/School Bag/College Bag/Business Bag/Unisex Bag Travel Bag Compatible with 15.6 inch Laptop 30L Bag for Men and Women - Blue  '},\n",
       " {'name': None},\n",
       " {'name': None},\n",
       " {'name': None},\n",
       " {'name': None}]"
      ]
     },
     "execution_count": 8,
     "metadata": {},
     "output_type": "execute_result"
    }
   ],
   "source": [
    "target = Tag('div', cls = 's-main-slot s-result-list s-search-results sg-row')\n",
    "items = Tag(cls='s-result-item')\n",
    "title = Tag('h2')\n",
    "price = Tag()\n",
    "rating = Tag()\n",
    "\n",
    "webpage.get_all(target, items, name = title)\n"
   ]
  },
  {
   "cell_type": "code",
   "execution_count": null,
   "metadata": {},
   "outputs": [],
   "source": []
  }
 ],
 "metadata": {
  "kernelspec": {
   "display_name": "base",
   "language": "python",
   "name": "python3"
  },
  "language_info": {
   "codemirror_mode": {
    "name": "ipython",
    "version": 3
   },
   "file_extension": ".py",
   "mimetype": "text/x-python",
   "name": "python",
   "nbconvert_exporter": "python",
   "pygments_lexer": "ipython3",
   "version": "3.10.8"
  },
  "orig_nbformat": 4,
  "vscode": {
   "interpreter": {
    "hash": "17f9612be2af95f1a24b44e8e60c8b31239550e8d26000091e818458ad3b3601"
   }
  }
 },
 "nbformat": 4,
 "nbformat_minor": 2
}

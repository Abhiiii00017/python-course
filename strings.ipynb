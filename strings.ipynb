{
 "cells": [
  {
   "cell_type": "code",
   "execution_count": 1,
   "metadata": {},
   "outputs": [],
   "source": [
    "name='Vijay Deenanath Chauhan'"
   ]
  },
  {
   "cell_type": "code",
   "execution_count": 2,
   "metadata": {},
   "outputs": [
    {
     "name": "stdout",
     "output_type": "stream",
     "text": [
      "0 V\n",
      "1 i\n",
      "2 j\n",
      "3 a\n",
      "4 y\n",
      "5  \n",
      "6 D\n",
      "7 e\n",
      "8 e\n",
      "9 n\n",
      "10 a\n",
      "11 n\n",
      "12 a\n",
      "13 t\n",
      "14 h\n",
      "15  \n",
      "16 C\n",
      "17 h\n",
      "18 a\n",
      "19 u\n",
      "20 h\n",
      "21 a\n",
      "22 n\n"
     ]
    }
   ],
   "source": [
    "for i,c in enumerate(name):\n",
    "    print(i,c)"
   ]
  },
  {
   "cell_type": "code",
   "execution_count": 11,
   "metadata": {},
   "outputs": [
    {
     "name": "stdout",
     "output_type": "stream",
     "text": [
      "Deenanath\n",
      "Chauhan\n"
     ]
    }
   ],
   "source": [
    "fn=name[6:15]\n",
    "print(fn)\n",
    "ln= name[-7:]\n",
    "print(ln)"
   ]
  },
  {
   "cell_type": "code",
   "execution_count": 9,
   "metadata": {},
   "outputs": [
    {
     "name": "stdout",
     "output_type": "stream",
     "text": [
      "Chauhan\n"
     ]
    }
   ],
   "source": [
    "fn=name[16:]\n",
    "print(fn)"
   ]
  },
  {
   "cell_type": "code",
   "execution_count": 24,
   "metadata": {},
   "outputs": [
    {
     "name": "stdout",
     "output_type": "stream",
     "text": [
      "ia ennt hua\n"
     ]
    }
   ],
   "source": [
    "fn=name[1::2]\n",
    "print(fn)"
   ]
  },
  {
   "cell_type": "code",
   "execution_count": 25,
   "metadata": {},
   "outputs": [
    {
     "name": "stdout",
     "output_type": "stream",
     "text": [
      "nahuahC htananeeD yajiV\n"
     ]
    }
   ],
   "source": [
    "fn=name[::-1]\n",
    "print(fn)"
   ]
  },
  {
   "cell_type": "code",
   "execution_count": 31,
   "metadata": {},
   "outputs": [
    {
     "name": "stdout",
     "output_type": "stream",
     "text": [
      "V\n",
      "j\n",
      "y\n",
      "D\n",
      "e\n",
      "a\n",
      "a\n",
      "h\n",
      "C\n",
      "a\n",
      "h\n",
      "n\n"
     ]
    }
   ],
   "source": [
    "for c in name [::2]:\n",
    "    print(c)\n"
   ]
  },
  {
   "cell_type": "code",
   "execution_count": 32,
   "metadata": {},
   "outputs": [
    {
     "name": "stdout",
     "output_type": "stream",
     "text": [
      "A B C D E F G H I J K L M N O P Q R S T U V W X Y Z "
     ]
    }
   ],
   "source": [
    "for i in range(65,91):\n",
    "    print(chr(i),end=' ')"
   ]
  },
  {
   "cell_type": "code",
   "execution_count": 33,
   "metadata": {},
   "outputs": [
    {
     "data": {
      "text/plain": [
       "'𥯶'"
      ]
     },
     "execution_count": 33,
     "metadata": {},
     "output_type": "execute_result"
    }
   ],
   "source": [
    "chr(154614)"
   ]
  },
  {
   "cell_type": "code",
   "execution_count": 34,
   "metadata": {},
   "outputs": [
    {
     "name": "stdout",
     "output_type": "stream",
     "text": [
      "128544\n"
     ]
    }
   ],
   "source": [
    "print(ord('😠'))"
   ]
  }
 ],
 "metadata": {
  "kernelspec": {
   "display_name": "base",
   "language": "python",
   "name": "python3"
  },
  "language_info": {
   "codemirror_mode": {
    "name": "ipython",
    "version": 3
   },
   "file_extension": ".py",
   "mimetype": "text/x-python",
   "name": "python",
   "nbconvert_exporter": "python",
   "pygments_lexer": "ipython3",
   "version": "3.10.8"
  },
  "orig_nbformat": 4,
  "vscode": {
   "interpreter": {
    "hash": "17f9612be2af95f1a24b44e8e60c8b31239550e8d26000091e818458ad3b3601"
   }
  }
 },
 "nbformat": 4,
 "nbformat_minor": 2
}

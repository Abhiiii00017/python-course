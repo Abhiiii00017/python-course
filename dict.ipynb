{
 "cells": [
  {
   "cell_type": "code",
   "execution_count": 1,
   "metadata": {},
   "outputs": [
    {
     "name": "stdout",
     "output_type": "stream",
     "text": [
      "{'name': 'Abhishek', 'class': '2nd', 'roll no': '4', 'marks': '95'}\n"
     ]
    }
   ],
   "source": [
    "student = { \n",
    "    'name' : 'Abhishek',\n",
    "    'class' :  '2nd',\n",
    "    'roll no' : '4',\n",
    "    'marks' : '95'\n",
    "\n",
    "}\n",
    "print(student)"
   ]
  },
  {
   "cell_type": "code",
   "execution_count": 2,
   "metadata": {},
   "outputs": [
    {
     "name": "stdout",
     "output_type": "stream",
     "text": [
      "Abhishek\n",
      "2nd\n"
     ]
    }
   ],
   "source": [
    "print(student['name'])\n",
    "print(student['class'])"
   ]
  },
  {
   "cell_type": "code",
   "execution_count": 3,
   "metadata": {},
   "outputs": [
    {
     "name": "stdout",
     "output_type": "stream",
     "text": [
      "Abhishek\n"
     ]
    }
   ],
   "source": [
    "print(student.get('name'))"
   ]
  },
  {
   "cell_type": "code",
   "execution_count": 4,
   "metadata": {},
   "outputs": [
    {
     "name": "stdout",
     "output_type": "stream",
     "text": [
      "{'name': 'Abhishek', 'class': 'Xth', 'roll no': '4', 'marks': '95', 'school': 'C.M.S'}\n"
     ]
    }
   ],
   "source": [
    "# add new entry and update.\n",
    "student['school'] = 'C.M.S'\n",
    "student['class'] = 'Xth'\n",
    "print(student)"
   ]
  },
  {
   "cell_type": "code",
   "execution_count": 5,
   "metadata": {},
   "outputs": [],
   "source": [
    "series = {\n",
    "    'title' : 'Jai Bhim',\n",
    "    'total season': '1000',\n",
    "    'OTT' : 'Amazon Prime',\n",
    "    'rating': '9.9' \n",
    "\n",
    "}"
   ]
  },
  {
   "cell_type": "code",
   "execution_count": 6,
   "metadata": {},
   "outputs": [
    {
     "name": "stdout",
     "output_type": "stream",
     "text": [
      "title\n",
      "total season\n",
      "OTT\n",
      "rating\n"
     ]
    }
   ],
   "source": [
    "for key in series:\n",
    "    print(key)"
   ]
  },
  {
   "cell_type": "code",
   "execution_count": 7,
   "metadata": {},
   "outputs": [
    {
     "name": "stdout",
     "output_type": "stream",
     "text": [
      "title Jai Bhim\n",
      "total season 1000\n",
      "OTT Amazon Prime\n",
      "rating 9.9\n"
     ]
    }
   ],
   "source": [
    "for key in series:\n",
    "    print(key,series[key])"
   ]
  },
  {
   "cell_type": "code",
   "execution_count": 8,
   "metadata": {},
   "outputs": [],
   "source": [
    "cricketer = {\n",
    "    'name' : 'Abhishek',\n",
    "    'age' : '26',\n",
    "    'city' : 'Lucknow',\n",
    "    'matches' : '150',\n",
    "    'runs' : '10000'\n",
    "}"
   ]
  },
  {
   "cell_type": "code",
   "execution_count": 9,
   "metadata": {},
   "outputs": [
    {
     "name": "stdout",
     "output_type": "stream",
     "text": [
      "{'name': 'Abhishek', 'age': '26', 'city': 'Lucknow', 'matches': '150', 'runs': '10000'}\n"
     ]
    }
   ],
   "source": [
    "print(cricketer)"
   ]
  },
  {
   "cell_type": "code",
   "execution_count": 10,
   "metadata": {},
   "outputs": [
    {
     "name": "stdout",
     "output_type": "stream",
     "text": [
      "name\n",
      "age\n",
      "city\n",
      "matches\n",
      "runs\n"
     ]
    }
   ],
   "source": [
    "for key in cricketer:\n",
    "    print(key)"
   ]
  },
  {
   "cell_type": "code",
   "execution_count": 11,
   "metadata": {},
   "outputs": [
    {
     "name": "stdout",
     "output_type": "stream",
     "text": [
      "('name', 'Abhishek')\n",
      "('age', '26')\n",
      "('city', 'Lucknow')\n",
      "('matches', '150')\n",
      "('runs', '10000')\n"
     ]
    }
   ],
   "source": [
    "for value in cricketer.items():\n",
    "    print(value)\n"
   ]
  },
  {
   "cell_type": "code",
   "execution_count": 12,
   "metadata": {},
   "outputs": [
    {
     "name": "stdout",
     "output_type": "stream",
     "text": [
      "name Abhishek\n",
      "age 26\n",
      "city Lucknow\n",
      "matches 150\n",
      "runs 10000\n"
     ]
    }
   ],
   "source": [
    "for values in cricketer:\n",
    "    print(values, cricketer[values])"
   ]
  },
  {
   "cell_type": "code",
   "execution_count": 13,
   "metadata": {},
   "outputs": [
    {
     "name": "stdout",
     "output_type": "stream",
     "text": [
      "name Abhishek\n",
      "age 26\n",
      "city Lucknow\n",
      "matches 150\n",
      "runs 10000\n"
     ]
    }
   ],
   "source": [
    "for values in cricketer :\n",
    "    print (values, cricketer[values])"
   ]
  },
  {
   "cell_type": "code",
   "execution_count": 14,
   "metadata": {},
   "outputs": [
    {
     "name": "stdout",
     "output_type": "stream",
     "text": [
      "Abhishek\n",
      "26\n",
      "Lucknow\n",
      "150\n",
      "10000\n"
     ]
    }
   ],
   "source": [
    "# only for value print\n",
    "for v in cricketer.values():\n",
    "    print(v)\n"
   ]
  },
  {
   "cell_type": "code",
   "execution_count": 15,
   "metadata": {},
   "outputs": [
    {
     "name": "stdout",
     "output_type": "stream",
     "text": [
      "<built-in method keys of dict object at 0x000002602200EF00>\n",
      "<built-in method values of dict object at 0x000002602200EF00>\n",
      "<built-in method items of dict object at 0x000002602200EF00>\n"
     ]
    }
   ],
   "source": [
    "print(cricketer.keys)\n",
    "print (cricketer.values)\n",
    "print(cricketer.items)"
   ]
  },
  {
   "cell_type": "code",
   "execution_count": null,
   "metadata": {},
   "outputs": [],
   "source": []
  }
 ],
 "metadata": {
  "kernelspec": {
   "display_name": "base",
   "language": "python",
   "name": "python3"
  },
  "language_info": {
   "codemirror_mode": {
    "name": "ipython",
    "version": 3
   },
   "file_extension": ".py",
   "mimetype": "text/x-python",
   "name": "python",
   "nbconvert_exporter": "python",
   "pygments_lexer": "ipython3",
   "version": "3.10.8"
  },
  "orig_nbformat": 4
 },
 "nbformat": 4,
 "nbformat_minor": 2
}
